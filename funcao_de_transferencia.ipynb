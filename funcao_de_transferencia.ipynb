{
 "cells": [
  {
   "cell_type": "markdown",
   "metadata": {},
   "source": [
    "### Seguem abaixo os links de documentações das libs utilizadas neste código:\n",
    "#### [Python Control Systems Library (python-control) (en-US)](https://python-control.readthedocs.io/en/0.8.0/)\n",
    "#### [Python Control - Módulo de compatibilidade com o MATLAB (en-US)](https://python-control.readthedocs.io/en/latest/matlab.html)\n",
    "#### [NumPy (en-US)](http://www.numpy.org/)\n",
    "#### [Matplotlib is a Python 2D plotting library... (en-US)](https://matplotlib.org/)\n",
    "\n",
    "\n",
    "### Vídeos:\n",
    "#### [PYTHON - APRENDA MAIS SOBRE NUMPY (pt-BR)](https://www.youtube.com/watch?v=9Ww-czakWrs) | Canal Youtube: Código Logo - Programação e Inteligência Artificial\n",
    "#### [Gráficos com Python e Matplotlib #1: Construindo seu primeiro gráfico](https://www.youtube.com/watch?v=UZfnPkkLCA0) | Canal Youtube: PyCursos\n",
    "\n",
    "##### Lembrete: A linha \"from control.matlab import *\" insere à disposição uma série de funções que buscam emular algumas das funcionalidades do MATLAB. A intenção dessas funções é prover uma simples interface às pessoas que são familiarizadas com o MATLAB."
   ]
  },
  {
   "cell_type": "code",
   "execution_count": 1,
   "metadata": {},
   "outputs": [],
   "source": [
    "from control.matlab import *\n",
    "import numpy as np\n",
    "import matplotlib.pyplot as plt"
   ]
  },
  {
   "cell_type": "code",
   "execution_count": 2,
   "metadata": {},
   "outputs": [],
   "source": [
    "num = [1]\n",
    "den = [1,2,5]"
   ]
  },
  {
   "cell_type": "markdown",
   "metadata": {},
   "source": [
    "#### Recomendamos aplicar diferentes valores nos vetores num e den para identificar os comportamentos do sistema."
   ]
  },
  {
   "cell_type": "code",
   "execution_count": 3,
   "metadata": {},
   "outputs": [],
   "source": [
    "sys = tf(num,den)"
   ]
  },
  {
   "cell_type": "markdown",
   "metadata": {},
   "source": [
    "#### A linha abaixo aplica na entrada um degrau unitário e recebe os valores de saída e tempo t.\n",
    "##### Documentação do comando [control.matlab.step](https://python-control.readthedocs.io/en/latest/generated/control.matlab.step.html?highlight=step)"
   ]
  },
  {
   "cell_type": "code",
   "execution_count": 4,
   "metadata": {},
   "outputs": [],
   "source": [
    "y, t = step(sys)"
   ]
  },
  {
   "cell_type": "code",
   "execution_count": 5,
   "metadata": {},
   "outputs": [
    {
     "data": {
      "image/png": "[encoded data removed]",
      "text/plain": [
       "<Figure size 432x288 with 1 Axes>"
      ]
     },
     "metadata": {},
     "output_type": "display_data"
    }
   ],
   "source": [
    "plt.plot(t,y)\n",
    "plt.grid()"
   ]
  },
  {
   "cell_type": "markdown",
   "metadata": {},
   "source": [
    "#### A função plt.show(), quando interpretada por um terminal, exibe a interface gráfica do matplotlib onde é possível a edição de parâmetros da impressão dos gráficos e permite ao usuário salvar os resultados em diversos formatos de imagem. \n",
    "\n",
    "#### Saiba mais: [Os 15 melhores comandos de Matplotlib que você vai ver hoje](https://paulovasconcellos.com.br/15-comandos-de-matplotlib-que-talvez-voc%C3%AA-n%C3%A3o-conhe%C3%A7a-17cf88a75119). "
   ]
  },
  {
   "cell_type": "code",
   "execution_count": 6,
   "metadata": {},
   "outputs": [],
   "source": [
    "plt.show()"
   ]
  }
 ],
 "metadata": {
  "kernelspec": {
   "display_name": "Python 3",
   "language": "python",
   "name": "python3"
  },
  "language_info": {
   "codemirror_mode": {
    "name": "ipython",
    "version": 3
   },
   "file_extension": ".py",
   "mimetype": "text/x-python",
   "name": "python",
   "nbconvert_exporter": "python",
   "pygments_lexer": "ipython3",
   "version": "3.6.4"
  }
 },
 "nbformat": 4,
 "nbformat_minor": 2
}
