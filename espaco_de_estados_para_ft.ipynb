{
 "cells": [
  {
   "cell_type": "markdown",
   "metadata": {},
   "source": [
    "### Seguem abaixo os links de documentações das libs utilizadas neste código:\n",
    "#### [Python Control Systems Library (python-control) (en-US)](https://python-control.readthedocs.io/en/0.8.0/)\n",
    "#### [Python Control - Módulo de compatibilidade com o MATLAB (en-US)](https://python-control.readthedocs.io/en/latest/matlab.html)\n",
    "#### [NumPy (en-US)](http://www.numpy.org/)\n",
    "\n",
    "\n",
    "### Vídeos:\n",
    "#### [PYTHON - APRENDA MAIS SOBRE NUMPY (pt-BR)](https://www.youtube.com/watch?v=9Ww-czakWrs) | Canal Youtube: Código Logo - Programação e Inteligência Artificial\n",
    "##### Lembrete: A linha \"from control.matlab import *\" insere à disposição uma série de funções que buscam emular algumas das funcionalidades do MATLAB. A intenção dessas funções é prover uma simples interface às pessoas que são familiarizadas com o MATLAB."
   ]
  },
  {
   "cell_type": "code",
   "execution_count": 1,
   "metadata": {},
   "outputs": [],
   "source": [
    "import numpy as np\n",
    "import control\n",
    "from control.matlab import *"
   ]
  },
  {
   "cell_type": "code",
   "execution_count": 2,
   "metadata": {},
   "outputs": [],
   "source": [
    "A = np.array([[-0.75, 0.75],[0.12,-0.15]])\n",
    "B = np.array([[1.99, 0],[0, 0.33]])\n",
    "C = np.eye(2,2) # Matriz identidade tamanho 2x2\n",
    "D = np.zeros(4).reshape(2,2) # Matriz de zeros tamanho 2x2\n",
    "\n",
    "x0 = np.array([[1.6],[1.44]])"
   ]
  },
  {
   "cell_type": "code",
   "execution_count": 3,
   "metadata": {},
   "outputs": [],
   "source": [
    "sys = ss(A,B,C,D)"
   ]
  },
  {
   "cell_type": "code",
   "execution_count": 4,
   "metadata": {},
   "outputs": [
    {
     "name": "stdout",
     "output_type": "stream",
     "text": [
      "Funções de transferência do sistema:\n",
      "\n",
      "Input 1 to output 1:\n",
      "  1.99 s + 0.2985\n",
      "--------------------\n",
      "s^2 + 0.9 s + 0.0225\n",
      "\n",
      "Input 1 to output 2:\n",
      "       0.2388\n",
      "--------------------\n",
      "s^2 + 0.9 s + 0.0225\n",
      "\n",
      "Input 2 to output 1:\n",
      "       0.2475\n",
      "--------------------\n",
      "s^2 + 0.9 s + 0.0225\n",
      "\n",
      "Input 2 to output 2:\n",
      "  0.33 s + 0.2475\n",
      "--------------------\n",
      "s^2 + 0.9 s + 0.0225\n",
      "\n"
     ]
    }
   ],
   "source": [
    "print('Funções de transferência do sistema:')\n",
    "tfs = ss2tf(sys)\n",
    "print(tfs)"
   ]
  },
  {
   "cell_type": "markdown",
   "metadata": {},
   "source": [
    "#### Caso seja útil, a função control.tfdata retorna os coeficientes dos numeradores e denominadores das funções de transferência do sistema na mesma ordem em que a função ss2tf retorna as FTs."
   ]
  },
  {
   "cell_type": "code",
   "execution_count": 5,
   "metadata": {},
   "outputs": [
    {
     "data": {
      "text/plain": [
       "([[array([1.99  , 0.2985]), array([0.2475])],\n",
       "  [array([0.2388]), array([0.33  , 0.2475])]],\n",
       " [[array([1.    , 0.9   , 0.0225]), array([1.    , 0.9   , 0.0225])],\n",
       "  [array([1.    , 0.9   , 0.0225]), array([1.    , 0.9   , 0.0225])]])"
      ]
     },
     "execution_count": 5,
     "metadata": {},
     "output_type": "execute_result"
    }
   ],
   "source": [
    "control.tfdata(sys)"
   ]
  }
 ],
 "metadata": {
  "kernelspec": {
   "display_name": "Python 3",
   "language": "python",
   "name": "python3"
  },
  "language_info": {
   "codemirror_mode": {
    "name": "ipython",
    "version": 3
   },
   "file_extension": ".py",
   "mimetype": "text/x-python",
   "name": "python",
   "nbconvert_exporter": "python",
   "pygments_lexer": "ipython3",
   "version": "3.6.4"
  }
 },
 "nbformat": 4,
 "nbformat_minor": 2
}
