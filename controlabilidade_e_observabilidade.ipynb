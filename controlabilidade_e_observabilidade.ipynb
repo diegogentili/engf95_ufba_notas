{
 "cells": [
  {
   "cell_type": "markdown",
   "metadata": {},
   "source": [
    "### Seguem abaixo os links de documentações das libs utilizadas neste código:\n",
    "#### [Python Control Systems Library (python-control) (en-US)](https://python-control.readthedocs.io/en/0.8.0/)\n",
    "#### [Python Control - Módulo de compatibilidade com o MATLAB (en-US)](https://python-control.readthedocs.io/en/latest/matlab.html)\n",
    "#### [NumPy (en-US)](http://www.numpy.org/)\n",
    "#### [Matplotlib is a Python 2D plotting library... (en-US)](https://matplotlib.org/)\n",
    "\n",
    "\n",
    "### Vídeos:\n",
    "#### [PYTHON - APRENDA MAIS SOBRE NUMPY (pt-BR)](https://www.youtube.com/watch?v=9Ww-czakWrs) | Canal Youtube: Código Logo - Programação e Inteligência Artificial\n",
    "#### [Gráficos com Python e Matplotlib #1: Construindo seu primeiro gráfico](https://www.youtube.com/watch?v=UZfnPkkLCA0) | Canal Youtube: PyCursos\n",
    "\n",
    "##### Lembrete: A linha \"from control.matlab import *\" insere à disposição uma série de funções que buscam emular algumas das funcionalidades do MATLAB. A intenção dessas funções é prover uma simples interface às pessoas que são familiarizadas com o MATLAB."
   ]
  },
  {
   "cell_type": "code",
   "execution_count": 1,
   "metadata": {},
   "outputs": [],
   "source": [
    "import matplotlib.pyplot as plt\n",
    "import control\n",
    "from control.matlab import *\n",
    "import numpy as np\n",
    "from numpy.linalg import matrix_rank # numpy.linalg: módulo de álgebra linear do numpy"
   ]
  },
  {
   "cell_type": "code",
   "execution_count": 2,
   "metadata": {},
   "outputs": [],
   "source": [
    "A = np.array([[-0.75, 0.75],[0.12,-0.15]])\n",
    "B = np.array([[1.99, 0],[0, 0.33]])\n",
    "C = np.eye(2,2) # Matriz identidade tamanho 2x2\n",
    "D = np.zeros(4).reshape(2,2) # Matriz de zeros tamanho 2x2"
   ]
  },
  {
   "cell_type": "code",
   "execution_count": 3,
   "metadata": {},
   "outputs": [],
   "source": [
    "sys = ss(A,B,C,D)"
   ]
  },
  {
   "cell_type": "code",
   "execution_count": 4,
   "metadata": {},
   "outputs": [
    {
     "name": "stdout",
     "output_type": "stream",
     "text": [
      "Matriz de controlabilidade das entradas:\n",
      "[[ 1.99    0.     -1.4925  0.2475]\n",
      " [ 0.      0.33    0.2388 -0.0495]]\n",
      "\n",
      "\n",
      "Número de estádos com entradas controláveis: \n",
      "2\n",
      "\n",
      "\n",
      "Matriz de controlabilidade das saídas:\n",
      "[[ 1.99    0.     -1.4925  0.2475]\n",
      " [ 0.      0.33    0.2388 -0.0495]]\n",
      "\n",
      "\n",
      "Número de estádos com saídas controláveis: \n",
      "2\n",
      "\n",
      "\n",
      "Matriz de observabilidade:\n",
      "[[ 1.    0.  ]\n",
      " [ 0.    1.  ]\n",
      " [-0.75  0.75]\n",
      " [ 0.12 -0.15]]\n",
      "\n",
      "\n",
      "Número de estádos observáveis: \n",
      "2\n",
      "\n",
      "\n"
     ]
    }
   ],
   "source": [
    "rank_tol = 0\t# Tolerância do posto de matrizes\n",
    "\n",
    "print('Matriz de controlabilidade das entradas:')\n",
    "print(ctrb(A,B))\n",
    "print('\\n')\n",
    "\n",
    "print('Número de estádos com entradas controláveis: ')\n",
    "print(matrix_rank(ctrb(A,B), rank_tol))\n",
    "print('\\n')\n",
    "\n",
    "print('Matriz de controlabilidade das saídas:')\n",
    "print(np.dot(C, ctrb(A,B)))\n",
    "print('\\n')\n",
    "\n",
    "print('Número de estádos com saídas controláveis: ')\n",
    "print(matrix_rank(np.dot(C, ctrb(A,B)), rank_tol))\n",
    "print('\\n')\n",
    "\n",
    "print('Matriz de observabilidade:')\n",
    "print(obsv(A,C))\n",
    "print('\\n')\n",
    "\n",
    "print('Número de estádos observáveis: ')\n",
    "print(matrix_rank(obsv(A,C)))\n",
    "print('\\n')"
   ]
  }
 ],
 "metadata": {
  "kernelspec": {
   "display_name": "Python 3",
   "language": "python",
   "name": "python3"
  },
  "language_info": {
   "codemirror_mode": {
    "name": "ipython",
    "version": 3
   },
   "file_extension": ".py",
   "mimetype": "text/x-python",
   "name": "python",
   "nbconvert_exporter": "python",
   "pygments_lexer": "ipython3",
   "version": "3.6.4"
  }
 },
 "nbformat": 4,
 "nbformat_minor": 2
}
