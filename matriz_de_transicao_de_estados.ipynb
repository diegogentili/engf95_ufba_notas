{
 "cells": [
  {
   "cell_type": "markdown",
   "metadata": {},
   "source": [
    "## Utilização da biblioteca Sympy para cálculos com variáveis simbólicas\n",
    "#### Para um sistema linear invariante no tempo e forçado, como o estudo de caso em questão, a matriz de transição de estados representa a transformação dos estados da condição inicial.\n",
    "#### Neste exemplo a utilizaremos para executar o cálculo da matriz de transição de estados $\\phi(t) = \\mathcal{L}^{-1} [sI - A]^{-1}$\n",
    "\n",
    "#### Link: [Sympy: inverse_laplace_transform](http://docs.sympy.org/latest/modules/integrals/integrals.html)"
   ]
  },
  {
   "cell_type": "code",
   "execution_count": 1,
   "metadata": {},
   "outputs": [],
   "source": [
    "import sympy\n",
    "\n",
    "import matplotlib.pyplot as plt\n",
    "import control\n",
    "from control.matlab import *"
   ]
  },
  {
   "cell_type": "code",
   "execution_count": 2,
   "metadata": {},
   "outputs": [],
   "source": [
    "A = np.array([[-0.75, 0.75],[0.12,-0.15]])\n",
    "B = np.array([[1.99, 0],[0, 0.33]])\n",
    "C = np.eye(2,2) # Matriz identidade tamanho 2x2\n",
    "D = np.zeros(4).reshape(2,2) # Matriz de zeros tamanho 2x2"
   ]
  },
  {
   "cell_type": "code",
   "execution_count": 3,
   "metadata": {},
   "outputs": [],
   "source": [
    "s, t = sympy.symbols('s,t')"
   ]
  },
  {
   "cell_type": "code",
   "execution_count": 4,
   "metadata": {},
   "outputs": [],
   "source": [
    "M = s*np.eye(2,2) - A # Matriz identidade \"eye(2,2)\" tem que ter as mesmas dimensões que A"
   ]
  },
  {
   "cell_type": "code",
   "execution_count": 6,
   "metadata": {},
   "outputs": [],
   "source": [
    "M = sympy.Matrix(M)"
   ]
  },
  {
   "cell_type": "code",
   "execution_count": 8,
   "metadata": {},
   "outputs": [],
   "source": [
    "M_simple = sympy.simplify(M.inv())"
   ]
  },
  {
   "cell_type": "code",
   "execution_count": 9,
   "metadata": {},
   "outputs": [
    {
     "data": {
      "text/plain": [
       "Matrix([\n",
       "[1.0*(0.12*s + 0.018)/(0.12*s**2 + 0.108*s + 0.0027),            0.09/(0.12*s**2 + 0.108*s + 0.0027)],\n",
       "[                   0.12/(1.0*s**2 + 0.9*s + 0.0225), 1.0*(1.0*s + 0.75)/(1.0*s**2 + 0.9*s + 0.0225)]])"
      ]
     },
     "execution_count": 9,
     "metadata": {},
     "output_type": "execute_result"
    }
   ],
   "source": [
    "M_simple"
   ]
  },
  {
   "cell_type": "markdown",
   "metadata": {},
   "source": [
    "#### Como observamos acima, a variável M_simple agora guarda uma matriz com expressões no espaço s\n",
    "#### Podemos continuar e tentar a inversa de Laplace com um processo semelhante ao comando ilaplace do MATLAB.\n",
    "#### Porém, vamos esbarrar nas mesmas limitações computacionais onde o computador apenas faz substituições recursivas do espaço s para o tempo t sem simplificar as expressões.\n",
    "#### Abaixo fazemos um exemplo para a primeira expressão da matriz (elemento M_simple[0])."
   ]
  },
  {
   "cell_type": "code",
   "execution_count": 14,
   "metadata": {},
   "outputs": [
    {
     "data": {
      "text/plain": [
       "0.12*InverseLaplaceTransform(s/(0.12*s**2 + 0.108*s + 0.0027), s, t, _None) + 0.15*meijerg(((0.125735931288072, 0.974264068711928), ()), ((), (-0.874264068711928, -0.0257359312880714)), exp(t))"
      ]
     },
     "execution_count": 14,
     "metadata": {},
     "output_type": "execute_result"
    }
   ],
   "source": [
    "sympy.inverse_laplace_transform(M_simple[0], s, t)"
   ]
  }
 ],
 "metadata": {
  "kernelspec": {
   "display_name": "Python 3",
   "language": "python",
   "name": "python3"
  },
  "language_info": {
   "codemirror_mode": {
    "name": "ipython",
    "version": 3
   },
   "file_extension": ".py",
   "mimetype": "text/x-python",
   "name": "python",
   "nbconvert_exporter": "python",
   "pygments_lexer": "ipython3",
   "version": "3.6.4"
  }
 },
 "nbformat": 4,
 "nbformat_minor": 2
}
